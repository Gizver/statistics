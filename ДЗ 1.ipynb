{
 "cells": [
  {
   "cell_type": "code",
   "execution_count": 3,
   "id": "bfd0e5db",
   "metadata": {},
   "outputs": [],
   "source": [
    "import numpy as np"
   ]
  },
  {
   "cell_type": "markdown",
   "id": "5b8e0b0a",
   "metadata": {},
   "source": [
    "### Задача 1\n",
    "\n",
    "Имеется колода в 52 карты. Найти число возможностей вытянуть из неё 4 карты так, чтобы среди них был хотя бы один туз."
   ]
  },
  {
   "cell_type": "code",
   "execution_count": 43,
   "id": "7a97691b",
   "metadata": {},
   "outputs": [],
   "source": [
    "def combinations(n: int, k: int) -> int:\n",
    "    return np.math.factorial(n) // (np.math.factorial(k) * np.math.factorial(n-k))"
   ]
  },
  {
   "cell_type": "code",
   "execution_count": 54,
   "id": "bbb16d25",
   "metadata": {},
   "outputs": [
    {
     "data": {
      "text/plain": [
       "76145"
      ]
     },
     "execution_count": 54,
     "metadata": {},
     "output_type": "execute_result"
    }
   ],
   "source": [
    "# Подсчитаем число возможностей при изменении числа тузов от 1 до 4.\n",
    "\n",
    "sum(combinations(4, i) * combinations(48, 4 - i) for i in range(1, 5))    "
   ]
  },
  {
   "cell_type": "markdown",
   "id": "7983f28d",
   "metadata": {},
   "source": [
    "### Задачи 2 и 3\n",
    "\n",
    "Из 60 вопросов, входящих в экзаменационные билеты, студент знает 50. Случайным образом студент вытягивает 3 вопроса. Какова вероятность, что все выбранные вопросы знакомы студенту?"
   ]
  },
  {
   "cell_type": "code",
   "execution_count": 61,
   "id": "b68b8e91",
   "metadata": {},
   "outputs": [
    {
     "data": {
      "text/plain": [
       "0.5727644652250146"
      ]
     },
     "execution_count": 61,
     "metadata": {},
     "output_type": "execute_result"
    }
   ],
   "source": [
    "combinations(50, 3) * combinations(10, 0) / combinations(60, 3)"
   ]
  },
  {
   "cell_type": "markdown",
   "id": "e33dfc80",
   "metadata": {},
   "source": [
    "Какова вероятность что два из трёх вопросов знакомы студенту?"
   ]
  },
  {
   "cell_type": "code",
   "execution_count": 62,
   "id": "f4d8291b",
   "metadata": {},
   "outputs": [
    {
     "data": {
      "text/plain": [
       "0.35797779076563413"
      ]
     },
     "execution_count": 62,
     "metadata": {},
     "output_type": "execute_result"
    }
   ],
   "source": [
    "combinations(50, 2) * combinations(10, 1) / combinations(60, 3)"
   ]
  },
  {
   "cell_type": "markdown",
   "id": "0d7af209",
   "metadata": {},
   "source": [
    "### Задача 4\n",
    "\n",
    "Допустим, имеется некоторая очень редкая болезнь (поражает 0.1% населения). Вы приходите к врачу, вам делают тест на эту болезнь, и тест оказывается положительным. Врач говорит вам, что этот тест верно выявляет 99% больных этой болезнью и всего лишь в 1% случаев даёт ложный положительный ответ.\n",
    "\n",
    "Вопрос: какова вероятность, что вы действительно больны ей?\n",
    "\n",
    "Подсказка: используйте формулу Байеса с раскрытием знаменателя с помощью формулы полной вероятности."
   ]
  },
  {
   "cell_type": "markdown",
   "id": "90209695",
   "metadata": {},
   "source": [
    "Пусть:\n",
    "\n",
    "А - заболел\n",
    "\n",
    "В - положительный результат"
   ]
  },
  {
   "cell_type": "markdown",
   "id": "fd342b2f",
   "metadata": {},
   "source": [
    "P(A|B) = P(B|A) * P(A) / P(B)\n",
    "\n",
    "P(B|A) = 0.99\n",
    "\n",
    "P(A) = 0.001\n"
   ]
  },
  {
   "cell_type": "code",
   "execution_count": 70,
   "id": "fb4004ad",
   "metadata": {},
   "outputs": [
    {
     "data": {
      "text/plain": [
       "0.01098"
      ]
     },
     "execution_count": 70,
     "metadata": {},
     "output_type": "execute_result"
    }
   ],
   "source": [
    "# P(B)\n",
    "P_b = 0.99 * 0.001 + 0.01 * 0.999\n",
    "P_b"
   ]
  },
  {
   "cell_type": "code",
   "execution_count": 71,
   "id": "b416c4bf",
   "metadata": {},
   "outputs": [
    {
     "data": {
      "text/plain": [
       "0.09016393442622951"
      ]
     },
     "execution_count": 71,
     "metadata": {},
     "output_type": "execute_result"
    }
   ],
   "source": [
    "# P(A|B)\n",
    "0.99 * 0.001 / P_b"
   ]
  }
 ],
 "metadata": {
  "kernelspec": {
   "display_name": "Python 3 (ipykernel)",
   "language": "python",
   "name": "python3"
  },
  "language_info": {
   "codemirror_mode": {
    "name": "ipython",
    "version": 3
   },
   "file_extension": ".py",
   "mimetype": "text/x-python",
   "name": "python",
   "nbconvert_exporter": "python",
   "pygments_lexer": "ipython3",
   "version": "3.9.7"
  }
 },
 "nbformat": 4,
 "nbformat_minor": 5
}
